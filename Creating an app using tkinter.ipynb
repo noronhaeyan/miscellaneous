{
 "cells": [
  {
   "cell_type": "markdown",
   "id": "dd11331f-d0bd-439a-9705-6eea5fd5d045",
   "metadata": {},
   "source": [
    "# Introduction\n",
    "\n",
    "In this notebook we try to create an app to tail a log file by taking the log file directory as input.\n",
    "\n",
    "Reference: https://www.youtube.com/watch?v=eoy9_S0sfP4&t=337s "
   ]
  },
  {
   "cell_type": "markdown",
   "id": "7faeb8c4-3bc3-47e8-a7d0-ee9ad3daa570",
   "metadata": {},
   "source": [
    "# Main code"
   ]
  },
  {
   "cell_type": "code",
   "execution_count": 46,
   "id": "2cc6afa0-e5a3-45ba-a064-19141e2f0755",
   "metadata": {},
   "outputs": [
    {
     "data": {
      "text/plain": [
       "<__main__.App at 0x15b1e8eaee0>"
      ]
     },
     "execution_count": 46,
     "metadata": {},
     "output_type": "execute_result"
    }
   ],
   "source": [
    "import tkinter as tk\n",
    "from tkinter import ttk\n",
    "\n",
    "class App():\n",
    "    def __init__(self):\n",
    "        self.root = tk.Tk()\n",
    "        self.root.geometry(\"370x200+500+500\")\n",
    "        self.root.title(\"Rudy\")\n",
    "        self.mainframe = tk.Frame(self.root, background = 'white')\n",
    "        self.mainframe.pack(fill='both', expand = True)\n",
    "\n",
    "        self.text = ttk.Label(self.mainframe, text=\"Welcome to Rudy\", background = \"white\", font = (\"Brass Mono\", 30))\n",
    "        self.text.grid(row = 0, column = 0)\n",
    "\n",
    "        self.text2 = ttk.Label(self.mainframe, text=\"Please paste your log path below\", background = \"white\", font = (\"Brass Mono\", 10))\n",
    "        self.text2.grid(row = 1, column = 0)\n",
    "\n",
    "        self.set_log_path = ttk.Entry(self.mainframe)\n",
    "        self.set_log_path.grid(row = 2, column = 0, pady = 10, sticky = \"NWES\")\n",
    "\n",
    "        open_file = ttk.Button(self.mainframe, text = \"Open File Explorer\")\n",
    "        open_file.grid(row = 3, column = 0)\n",
    "\n",
    "        tail_file = ttk.Button(self.mainframe, text = \"Tail Log File\")\n",
    "        tail_file.grid(row = 4, column = 0, pady = 10)\n",
    "        \n",
    "        self.root.mainloop()\n",
    "\n",
    "\n",
    "        return \n",
    "\n",
    "\n",
    "\n",
    "App()"
   ]
  },
  {
   "cell_type": "code",
   "execution_count": 53,
   "id": "c6b30f7b-36ab-4295-b985-29218cd8640c",
   "metadata": {},
   "outputs": [],
   "source": [
    "from pathlib import WindowsPath\n",
    "\n",
    "log_path = WindowsPath(r\"C:\\workspace\\miscellaneous\\code\\miscellaneous\")"
   ]
  },
  {
   "cell_type": "code",
   "execution_count": 59,
   "id": "eef125f5-5735-4ea5-a370-b1e09bccbab7",
   "metadata": {},
   "outputs": [],
   "source": [
    "import subprocess\n",
    "\n",
    "r = subprocess.Popen(fr'\"%ProgramFiles%\\Git\\git-bash.exe\" -c \"tail -f /c/Windows/win.ini\"', shell = True)"
   ]
  },
  {
   "cell_type": "code",
   "execution_count": null,
   "id": "8a717532-3f00-4c99-933e-854f07b85c80",
   "metadata": {},
   "outputs": [],
   "source": []
  }
 ],
 "metadata": {
  "kernelspec": {
   "display_name": "misc",
   "language": "python",
   "name": "misc"
  },
  "language_info": {
   "codemirror_mode": {
    "name": "ipython",
    "version": 3
   },
   "file_extension": ".py",
   "mimetype": "text/x-python",
   "name": "python",
   "nbconvert_exporter": "python",
   "pygments_lexer": "ipython3",
   "version": "3.9.2"
  }
 },
 "nbformat": 4,
 "nbformat_minor": 5
}
