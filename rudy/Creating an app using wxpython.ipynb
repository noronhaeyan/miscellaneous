{
 "cells": [
  {
   "cell_type": "code",
   "execution_count": 9,
   "id": "b3a7bddb-4e17-4107-8943-4276e7cf2dc8",
   "metadata": {},
   "outputs": [],
   "source": [
    "import wx\n",
    "\n",
    "class MyFrame(wx.Frame):\n",
    "    def __init__(self, parent, title):\n",
    "        super(MyFrame, self).__init__(parent, title=title, size=(300, 200))\n",
    "        panel = wx.Panel(self)\n",
    "        \n",
    "        welcome_font = wx.Font(16, wx.DEFAULT, wx.NORMAL, wx.BOLD)  # Create a font object with size 16 and bold style\n",
    "        welcome_label = wx.StaticText(panel, label=\"Welcome!\", pos=(50, 20))\n",
    "        welcome_label.SetFont(welcome_font)  # Set the font for the welcome label\n",
    "        \n",
    "        self.text_ctrl = wx.TextCtrl(panel, pos=(50, 50), size=(200, -1))\n",
    "        button1 = wx.Button(panel, label=\"Execute 1\", pos=(50, 100))\n",
    "        button2 = wx.Button(panel, label=\"Execute 2\", pos=(150, 100))\n",
    "        \n",
    "        button1.Bind(wx.EVT_BUTTON, self.on_button1_click)\n",
    "        button2.Bind(wx.EVT_BUTTON, self.on_button2_click)\n",
    "        \n",
    "        self.result_label = wx.StaticText(panel, label=\"\", pos=(50, 150))\n",
    "        \n",
    "        self.Centre()\n",
    "        self.Show(True)\n",
    "    \n",
    "    def on_button1_click(self, event):\n",
    "        user_input = self.text_ctrl.GetValue()\n",
    "        # Execute your first function with user_input\n",
    "        # For example, you can display the input in the result label\n",
    "        self.result_label.SetLabel(f\"Executed Function 1 with Input: {user_input}\")\n",
    "    \n",
    "    def on_button2_click(self, event):\n",
    "        user_input = self.text_ctrl.GetValue()\n",
    "        # Execute your second function with user_input\n",
    "        # For example, you can display the input in the result label\n",
    "        self.result_label.SetLabel(f\"Executed Function 2 with Input: {user_input}\")"
   ]
  },
  {
   "cell_type": "code",
   "execution_count": null,
   "id": "7ea3e557-33bc-46e4-b5e7-b7538c46470e",
   "metadata": {},
   "outputs": [],
   "source": [
    "app = wx.App(False)\n",
    "frame = MyFrame(None, \"Text Input App\")\n",
    "app.MainLoop()\n",
    "del app"
   ]
  },
  {
   "cell_type": "code",
   "execution_count": 3,
   "id": "bb4ddd58-d9f7-4b4b-8231-db787ddb0dd3",
   "metadata": {},
   "outputs": [],
   "source": []
  },
  {
   "cell_type": "code",
   "execution_count": null,
   "id": "fc0c8231-9ac9-4baa-9007-c8fc52e2d8f9",
   "metadata": {},
   "outputs": [],
   "source": []
  }
 ],
 "metadata": {
  "kernelspec": {
   "display_name": "misc",
   "language": "python",
   "name": "misc"
  },
  "language_info": {
   "codemirror_mode": {
    "name": "ipython",
    "version": 3
   },
   "file_extension": ".py",
   "mimetype": "text/x-python",
   "name": "python",
   "nbconvert_exporter": "python",
   "pygments_lexer": "ipython3",
   "version": "3.9.2"
  }
 },
 "nbformat": 4,
 "nbformat_minor": 5
}
