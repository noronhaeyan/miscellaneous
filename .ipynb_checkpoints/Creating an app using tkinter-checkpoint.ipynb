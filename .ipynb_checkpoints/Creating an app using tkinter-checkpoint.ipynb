{
 "cells": [
  {
   "cell_type": "markdown",
   "id": "dd11331f-d0bd-439a-9705-6eea5fd5d045",
   "metadata": {},
   "source": [
    "# Introduction\n",
    "\n",
    "In this notebook we try to create an app to tail a log file by taking the log file directory as input.\n",
    "\n",
    "Reference: https://www.youtube.com/watch?v=eoy9_S0sfP4&t=337s "
   ]
  },
  {
   "cell_type": "markdown",
   "id": "7faeb8c4-3bc3-47e8-a7d0-ee9ad3daa570",
   "metadata": {},
   "source": [
    "# Main code"
   ]
  },
  {
   "cell_type": "code",
   "execution_count": 1,
   "id": "2cc6afa0-e5a3-45ba-a064-19141e2f0755",
   "metadata": {},
   "outputs": [],
   "source": [
    "import tkinter as tk\n",
    "from tkinter import ttk\n",
    "\n",
    "class App():\n",
    "    def __init__(self):\n",
    "        self.root = tk.Tk()\n",
    "\n",
    "        self.root.mainloop()\n",
    "\n",
    "\n",
    "        return \n",
    "\n",
    "\n",
    "\n",
    "App()"
   ]
  },
  {
   "cell_type": "code",
   "execution_count": null,
   "id": "c6b30f7b-36ab-4295-b985-29218cd8640c",
   "metadata": {},
   "outputs": [],
   "source": []
  }
 ],
 "metadata": {
  "kernelspec": {
   "display_name": "misc",
   "language": "python",
   "name": "misc"
  },
  "language_info": {
   "codemirror_mode": {
    "name": "ipython",
    "version": 3
   },
   "file_extension": ".py",
   "mimetype": "text/x-python",
   "name": "python",
   "nbconvert_exporter": "python",
   "pygments_lexer": "ipython3",
   "version": "3.9.2"
  }
 },
 "nbformat": 4,
 "nbformat_minor": 5
}
