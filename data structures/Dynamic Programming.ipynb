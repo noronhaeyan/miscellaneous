{
 "cells": [
  {
   "cell_type": "markdown",
   "id": "ba3de7a8-f318-41ec-b42a-ffec17f54daa",
   "metadata": {},
   "source": [
    "what makes a problem a good candidate for dynamic programming:\n",
    "\n",
    "    1) The problem can be broken down into \"overlapping subproblems\" - smaller versions of the original problem that are re-used multiple times\n",
    "    2) The problem has an \"optimal substructure\" - an optimal solution can be formed from optimal solutions to the overlapping subproblems of the original problem\n"
   ]
  },
  {
   "cell_type": "markdown",
   "id": "e16897e0-64dc-42d7-8641-19fd505a08ba",
   "metadata": {},
   "source": [
    "The first characteristic that is common in DP problems is that the problem will ask for the optimum value (maximum or minimum) of something"
   ]
  },
  {
   "cell_type": "markdown",
   "id": "a3f9b3c5-e9dd-4821-acd6-a5535c83fdae",
   "metadata": {},
   "source": [
    "The second characteristic that is common in DP problems is that future \"decisions\" depend on earlier decisions. "
   ]
  },
  {
   "cell_type": "markdown",
   "id": "e5c67131-7e80-4d9e-bfe4-feb4d5e99cd3",
   "metadata": {},
   "source": [
    "## The Framework"
   ]
  },
  {
   "cell_type": "markdown",
   "id": "1ed25a13-fd2f-41a8-8a4a-3d3497d0579c",
   "metadata": {},
   "source": [
    "To solve a DP problem, we need to combine 3 things:\n",
    "\n",
    "1) A function or data structure that will compute/contain the answer to the problem for every given state.\n",
    "2) A recurrence relation to transition between states.\n",
    "3) Base cases, so that our recurrence relation doesn't go on infinitely."
   ]
  },
  {
   "cell_type": "markdown",
   "id": "6c769304-5a7c-4aef-b9c4-925f39742340",
   "metadata": {},
   "source": [
    "## Longest Increasing Subsequence\n"
   ]
  },
  {
   "cell_type": "code",
   "execution_count": 4,
   "id": "aa1e0396-c400-4c56-9c89-2c2f10294643",
   "metadata": {},
   "outputs": [],
   "source": [
    "from typing import List\n",
    "\n",
    "class Solution:\n",
    "    def lengthOfLIS(self, nums: List[int]) -> int:\n",
    "        dp = [1] * len(nums)\n",
    "        for i in range(1, len(nums)):\n",
    "            for j in range(i):\n",
    "                if nums[i] > nums[j]:\n",
    "                    dp[i] = max(dp[i], dp[j] + 1)\n",
    "\n",
    "        return max(dp)"
   ]
  },
  {
   "cell_type": "code",
   "execution_count": 5,
   "id": "cace822c-b459-424d-ab54-3a0d8509b2ba",
   "metadata": {},
   "outputs": [],
   "source": [
    "aa = Solution()\n",
    "\n",
    "nums = [10,9,2,5,3,7,101,18]\n",
    "\n",
    "assert aa.lengthOfLIS(nums) == 4"
   ]
  },
  {
   "cell_type": "code",
   "execution_count": null,
   "id": "3826cf74-aa0c-4406-aa1f-56b5d244c6f5",
   "metadata": {},
   "outputs": [],
   "source": []
  }
 ],
 "metadata": {
  "kernelspec": {
   "display_name": "misc",
   "language": "python",
   "name": "misc"
  },
  "language_info": {
   "codemirror_mode": {
    "name": "ipython",
    "version": 3
   },
   "file_extension": ".py",
   "mimetype": "text/x-python",
   "name": "python",
   "nbconvert_exporter": "python",
   "pygments_lexer": "ipython3",
   "version": "3.9.2"
  }
 },
 "nbformat": 4,
 "nbformat_minor": 5
}
