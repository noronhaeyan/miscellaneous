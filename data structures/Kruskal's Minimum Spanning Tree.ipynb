{
 "cells": [
  {
   "cell_type": "code",
   "execution_count": 29,
   "id": "4bcad0e4-f0e4-4073-80de-e33d34a5806b",
   "metadata": {},
   "outputs": [],
   "source": [
    "class Unionfind():\n",
    "    def __init__(self, g_nodes):\n",
    "        self.parent = list(range(g_nodes))\n",
    "        self.rank = [0]*g_nodes\n",
    "\n",
    "    def find(self, x):\n",
    "        if x != self.parent[x]:\n",
    "            self.parent[x] = self.find(self.parent[x])\n",
    "        return self.parent[x]\n",
    "\n",
    "    def union(self, u, v):\n",
    "        root_x = self.parent[u]\n",
    "        root_y = self.parent[v]\n",
    "        \n",
    "        if root_x == root_y:\n",
    "            return\n",
    "        \n",
    "        if self.rank[root_x] > self.rank[root_y]:\n",
    "            self.parent[root_y] = root_x\n",
    "        else:\n",
    "            self.parent[root_x] = root_y\n",
    "            if self.rank[root_x] == self.rank[root_y]:\n",
    "                self.rank[root_y] += 1\n",
    "            \n",
    "def kruskal_mst(edges, g_nodes):\n",
    "\n",
    "    edges.sort(key = lambda x: x[2])\n",
    "    uf = Unionfind(g_nodes)\n",
    "    mst = []\n",
    "\n",
    "    for edge in edges:\n",
    "        u, v, weight = edge\n",
    "\n",
    "        if uf.find(u) != uf.find(v):\n",
    "            mst.append(edge)\n",
    "            uf.union(u,v)\n",
    "\n",
    "    return mst\n",
    "\n",
    "def min_max_latency(g_nodes, g_from, g_to, g_weight, k):\n",
    "    #create a list of edges starting with index 0\n",
    "    g_from = [x-1 for x in g_from]\n",
    "    g_to = [x-1 for x in g_to]\n",
    "    edges = list(zip(g_from, g_to, g_weight))\n",
    "    print(edges)\n",
    "\n",
    "    mst = kruskal_mst(edges, g_nodes)\n",
    "    print(mst)\n",
    "\n",
    "    if len(mst) < k:\n",
    "        return mst[-1][2]\n",
    "\n",
    "    return mst[-k][2]\n",
    "    "
   ]
  },
  {
   "cell_type": "markdown",
   "id": "f8691404-2344-4207-b58f-9d4f2865ab08",
   "metadata": {},
   "source": [
    "# Test"
   ]
  },
  {
   "cell_type": "code",
   "execution_count": 30,
   "id": "65b1ea80-6ea0-44be-bc0d-0c97353cd8ba",
   "metadata": {},
   "outputs": [
    {
     "name": "stdout",
     "output_type": "stream",
     "text": [
      "[(0, 1, 3), (2, 1, 4), (0, 3, 4)]\n",
      "[(0, 1, 3), (2, 1, 4), (0, 3, 4)]\n"
     ]
    }
   ],
   "source": [
    "g_nodes = 4\n",
    "g_from = [1, 3, 1]\n",
    "g_to = [2, 2, 4]\n",
    "g_weight = [3, 4, 4]\n",
    "k = 2\n",
    "\n",
    "assert min_max_latency(g_nodes, g_from, g_to, g_weight, k) == 4"
   ]
  },
  {
   "cell_type": "code",
   "execution_count": 31,
   "id": "b4fd0570-99b8-4571-8261-ddf707a5a0ec",
   "metadata": {},
   "outputs": [
    {
     "name": "stdout",
     "output_type": "stream",
     "text": [
      "[(0, 1, 4), (1, 2, 5), (2, 0, 3)]\n",
      "[(2, 0, 3), (0, 1, 4)]\n"
     ]
    }
   ],
   "source": [
    "g_nodes = 3\n",
    "g_from = [1, 2, 3]\n",
    "g_to = [2, 3, 1]\n",
    "g_weight = [4, 5, 3]\n",
    "k = 2\n",
    "\n",
    "assert min_max_latency(g_nodes, g_from, g_to, g_weight, k) == 3"
   ]
  },
  {
   "cell_type": "code",
   "execution_count": 32,
   "id": "18cf2025-798f-4928-8726-3672a012c8ca",
   "metadata": {},
   "outputs": [
    {
     "name": "stdout",
     "output_type": "stream",
     "text": [
      "[(1, 0, 3)]\n",
      "[(1, 0, 3)]\n"
     ]
    }
   ],
   "source": [
    "g_nodes = 3\n",
    "g_from = [2]\n",
    "g_to = [1]\n",
    "g_weight = [3]\n",
    "k = 2\n",
    "\n",
    "assert min_max_latency(g_nodes, g_from, g_to, g_weight, k) == 3"
   ]
  },
  {
   "cell_type": "code",
   "execution_count": 33,
   "id": "d636248c-cd04-496d-8105-2e02908c222f",
   "metadata": {},
   "outputs": [
    {
     "name": "stdout",
     "output_type": "stream",
     "text": [
      "[(0, 1, 3), (2, 1, 4), (0, 2, 6)]\n",
      "[(0, 1, 3), (2, 1, 4)]\n"
     ]
    }
   ],
   "source": [
    "# Example usage\n",
    "g_nodes = 3\n",
    "g_from = [1, 3, 1]\n",
    "g_to = [2, 2, 3]\n",
    "g_weight = [3, 4, 6]\n",
    "k = 1\n",
    "\n",
    "assert min_max_latency(g_nodes, g_from, g_to, g_weight, k) == 4"
   ]
  }
 ],
 "metadata": {
  "kernelspec": {
   "display_name": "misc",
   "language": "python",
   "name": "misc"
  },
  "language_info": {
   "codemirror_mode": {
    "name": "ipython",
    "version": 3
   },
   "file_extension": ".py",
   "mimetype": "text/x-python",
   "name": "python",
   "nbconvert_exporter": "python",
   "pygments_lexer": "ipython3",
   "version": "3.9.2"
  }
 },
 "nbformat": 4,
 "nbformat_minor": 5
}
