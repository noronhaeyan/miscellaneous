{
 "cells": [
  {
   "cell_type": "markdown",
   "id": "4398c307-5e15-492f-9fa2-c8cd85782008",
   "metadata": {},
   "source": [
    "## Psuedo code for backtracking"
   ]
  },
  {
   "cell_type": "code",
   "execution_count": 1,
   "id": "dfd33b53-d0af-4d86-ba2f-111e5f97b37a",
   "metadata": {},
   "outputs": [],
   "source": [
    "def backtrack(candidate):\n",
    "    if find_solution(candidate):\n",
    "        output(candidate)\n",
    "        return\n",
    "    \n",
    "    # iterate all possible candidates.\n",
    "    for next_candidate in list_of_candidates:\n",
    "        if is_valid(next_candidate):\n",
    "            # try this partial candidate solution\n",
    "            place(next_candidate)\n",
    "            # given the candidate, explore further.\n",
    "            backtrack(next_candidate)\n",
    "            # backtrack\n",
    "            remove(next_candidate)"
   ]
  },
  {
   "cell_type": "markdown",
   "id": "9ab03263-aa34-4403-b835-8a7b1eae7923",
   "metadata": {},
   "source": [
    "Given two integers n and k, return all possible combinations of k numbers chosen from the range [1, n].\n",
    "\n",
    "You may return the answer in any order."
   ]
  },
  {
   "cell_type": "code",
   "execution_count": 11,
   "id": "9d8da0ff-0ea4-4599-b355-62826fcb55f0",
   "metadata": {},
   "outputs": [],
   "source": [
    "from typing import List\n",
    "\n",
    "class Solution:\n",
    "    def combine(self, n: int, k: int) -> List[List[int]]:\n",
    "        def backtrack(curr, first_num):\n",
    "            if len(curr) == k:\n",
    "                ans.append(curr[:])\n",
    "                return\n",
    "\n",
    "            need = k - len(curr)\n",
    "            remain = n - first_num + 1\n",
    "            available = remain - need\n",
    "            \n",
    "            for num in range(first_num, first_num + available + 1):\n",
    "                curr.append(num)\n",
    "                backtrack(curr, num + 1)\n",
    "                curr.pop()\n",
    "\n",
    "            return\n",
    "        \n",
    "        ans = []\n",
    "        backtrack([], 1)\n",
    "        return ans"
   ]
  },
  {
   "cell_type": "code",
   "execution_count": 14,
   "id": "caef3d56-c778-4581-adb8-907d21be8902",
   "metadata": {},
   "outputs": [],
   "source": [
    "n = 4\n",
    "k = 2\n",
    "ans = [[1,2],[1,3],[1,4],[2,3],[2,4],[3,4]]\n",
    "\n",
    "a = Solution()\n",
    "\n",
    "result = a.combine(n,k)\n",
    "\n",
    "assert len(ans) == len(result)\n",
    "\n",
    "temp = [set(x) for x in ans]\n",
    "\n",
    "for y in result:\n",
    "    assert set(y) in temp "
   ]
  }
 ],
 "metadata": {
  "kernelspec": {
   "display_name": "misc",
   "language": "python",
   "name": "misc"
  },
  "language_info": {
   "codemirror_mode": {
    "name": "ipython",
    "version": 3
   },
   "file_extension": ".py",
   "mimetype": "text/x-python",
   "name": "python",
   "nbconvert_exporter": "python",
   "pygments_lexer": "ipython3",
   "version": "3.9.2"
  }
 },
 "nbformat": 4,
 "nbformat_minor": 5
}
